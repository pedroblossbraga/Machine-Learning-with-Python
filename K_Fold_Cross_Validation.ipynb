{
  "nbformat": 4,
  "nbformat_minor": 0,
  "metadata": {
    "colab": {
      "name": "K-Fold Cross Validation.ipynb",
      "provenance": [],
      "collapsed_sections": [],
      "authorship_tag": "ABX9TyNh2dVxitClxsle9Ws+4x5O",
      "include_colab_link": true
    },
    "kernelspec": {
      "name": "python3",
      "display_name": "Python 3"
    }
  },
  "cells": [
    {
      "cell_type": "markdown",
      "metadata": {
        "id": "view-in-github",
        "colab_type": "text"
      },
      "source": [
        "<a href=\"https://colab.research.google.com/github/pedroblossbraga/Machine-Learning-with-Python/blob/main/K_Fold_Cross_Validation.ipynb\" target=\"_parent\"><img src=\"https://colab.research.google.com/assets/colab-badge.svg\" alt=\"Open In Colab\"/></a>"
      ]
    },
    {
      "cell_type": "markdown",
      "metadata": {
        "id": "m67tGh_Q1FxY"
      },
      "source": [
        "# K-Fold Cross-Validation\n",
        "\n",
        "- It is a tecnique for avaluating a model's generalization capacity, given a dataset.\n",
        "- In other words, it expresses the performance of a model, for diferent samples of data, and how your model performes in diverse \"sub-datasets\"\n",
        "- This is a very useful way on fitting against overfitting (under-generalization of the model)\n",
        "\n",
        "## Process Flow\n",
        "![width=60](https://scikit-learn.org/stable/_images/grid_search_workflow.png)\n",
        "\n",
        "<br>\n",
        "\n",
        "- Optimal parameters can be found/estimated with hyperparameter tuning (e.g. Grid Search, Randomized Search, Bayesian Search, etc)\n",
        "\n",
        "<br>\n",
        "\n",
        "![](https://scikit-learn.org/stable/_images/grid_search_cross_validation.png)\n",
        "\n",
        "## Formulation\n",
        "\n",
        "For instance, given a sequence as a dataset: $\\{ x_j \\}_{j=1}^N$ of $N$ values.\n",
        "\n",
        "\n",
        "Let $\\mathcal{P}: \\mathbb{R}^n \\rightarrow \\mathbb{R}$ the performance function.\n",
        "\n",
        "The Cross-Validation performance $\\mathcal{P}_{CV}$ can be computed by splitting the dataset into $K-1$ sub-samples:\n",
        "\n",
        "\\begin{equation}\n",
        "\\{x_j \\}_{j=1}^{\\frac{N}{K}}, \\quad \\{x_j \\}_{j=\\frac{N}{K}+1}^{\\frac{2N}{K}}, \\quad ... \\quad \\{x_j\\}_{j=\\frac{(K-1)N}{K}+1}^{N}\n",
        "\\end{equation}\n",
        "\n",
        "computing the performance for each sub-sample and averaging. i.e.:\n",
        "\n",
        "\\begin{equation}\n",
        "\\mathcal{P}_{CV} = \\frac{1}{K}\\sum_{i=0}^{K-1} \\mathcal{P}(\\{x_j\\}_{j=(\\frac{iN}{K})+1}^{\\frac{(i+1)N}{K}})\n",
        "\\end{equation}\n",
        "\n",
        "- Data pre-processing (scaling) is another important method of regularization\n",
        "\n",
        "## Links:\n",
        "- https://scikit-learn.org/stable/modules/cross_validation.html\n",
        "\n",
        "\n",
        "## Example"
      ]
    },
    {
      "cell_type": "code",
      "metadata": {
        "id": "OL2mExtl1DKu",
        "colab": {
          "base_uri": "https://localhost:8080/"
        },
        "outputId": "35d6a76a-03f7-46a5-c46a-ba835e206d45"
      },
      "source": [
        "from sklearn import datasets\n",
        "from sklearn.model_selection import train_test_split\n",
        "from sklearn import svm\n",
        "\n",
        "## extrating sample data\n",
        "X,y = datasets.load_iris(return_X_y=True)\n",
        "## train-test-split\n",
        "X_train, X_test, y_train, y_test = train_test_split(X,y, test_size=0.4, random_state=0)\n",
        "\n",
        "## defining a model and fitting it\n",
        "clf = svm.SVC(kernel='linear', C=1).fit(X_train, y_train)\n",
        "clf.score(X_test, y_test)"
      ],
      "execution_count": 1,
      "outputs": [
        {
          "output_type": "execute_result",
          "data": {
            "text/plain": [
              "0.9666666666666667"
            ]
          },
          "metadata": {
            "tags": []
          },
          "execution_count": 1
        }
      ]
    },
    {
      "cell_type": "code",
      "metadata": {
        "colab": {
          "base_uri": "https://localhost:8080/"
        },
        "id": "54jNPBlx7T8G",
        "outputId": "7fcee5e7-7b86-47bf-9177-d6566e06de1d"
      },
      "source": [
        "from sklearn.model_selection import cross_val_score\n",
        "\n",
        "clf = svm.SVC(kernel='linear', C=1, random_state=42)\n",
        "scores = cross_val_score(clf, X, y, cv=5)\n",
        "scores"
      ],
      "execution_count": 2,
      "outputs": [
        {
          "output_type": "execute_result",
          "data": {
            "text/plain": [
              "array([0.96666667, 1.        , 0.96666667, 0.96666667, 1.        ])"
            ]
          },
          "metadata": {
            "tags": []
          },
          "execution_count": 2
        }
      ]
    },
    {
      "cell_type": "code",
      "metadata": {
        "colab": {
          "base_uri": "https://localhost:8080/"
        },
        "id": "S9wC8M-o8DG7",
        "outputId": "1cc71879-8f37-437b-bc6e-5667fc26ac1d"
      },
      "source": [
        "print(\"mean accuracy: %0.3f (+- %0.3f (standard deviation))\" %(scores.mean(), scores.std()))"
      ],
      "execution_count": 3,
      "outputs": [
        {
          "output_type": "stream",
          "text": [
            "mean accuracy: 0.980 (+- 0.016 (standard deviation))\n"
          ],
          "name": "stdout"
        }
      ]
    },
    {
      "cell_type": "markdown",
      "metadata": {
        "id": "dQwhZ-3r8439"
      },
      "source": [
        "### Tip\n",
        "- with **pipeline** it is very easy to implement cross validation together with data preprocessing, estimating the performance:"
      ]
    },
    {
      "cell_type": "code",
      "metadata": {
        "colab": {
          "base_uri": "https://localhost:8080/"
        },
        "id": "Azw51DUc9JW5",
        "outputId": "0bf1b2d7-8eab-4b82-e3af-abc4c413a7bd"
      },
      "source": [
        "from sklearn import preprocessing\n",
        "from sklearn.pipeline import make_pipeline\n",
        "from sklearn.model_selection import ShuffleSplit\n",
        "\n",
        "cv = ShuffleSplit(n_splits=5, test_size=0.3, random_state=0)\n",
        "clf = make_pipeline(preprocessing.StandardScaler(), svm.SVC(C=1))\n",
        "cross_val_score(clf, X, y, cv=cv)"
      ],
      "execution_count": 4,
      "outputs": [
        {
          "output_type": "execute_result",
          "data": {
            "text/plain": [
              "array([0.97777778, 0.93333333, 0.95555556, 0.93333333, 0.97777778])"
            ]
          },
          "metadata": {
            "tags": []
          },
          "execution_count": 4
        }
      ]
    },
    {
      "cell_type": "code",
      "metadata": {
        "colab": {
          "base_uri": "https://localhost:8080/",
          "height": 385
        },
        "id": "WbWX4QfM-J9A",
        "outputId": "3165341d-b035-4294-a0f5-0f69a75fa027"
      },
      "source": [
        "from sklearn import preprocessing\n",
        "import seaborn as sns\n",
        "import matplotlib.pyplot as plt\n",
        "\n",
        "\n",
        "X_train, X_test, y_train, y_test = train_test_split(\n",
        "    X, y, test_size=0.4, random_state=0)\n",
        "\n",
        "scaler = preprocessing.StandardScaler().fit(X_train)\n",
        "\n",
        "X_train_transformed = scaler.transform(X_train)\n",
        "\n",
        "clf = svm.SVC(C=1).fit(X_train_transformed, y_train)\n",
        "\n",
        "X_test_transformed = scaler.transform(X_test)\n",
        "\n",
        "## plotting the distributions\n",
        "plt.figure(figsize=(16, 4))\n",
        "plt.subplot(1,2,1)\n",
        "plt.title('X_test distribution')\n",
        "sns.distplot(X_test)\n",
        "\n",
        "plt.subplot(1,2,2)\n",
        "plt.title('X_test_transformed distribution')\n",
        "sns.distplot(X_test_transformed)\n",
        "\n",
        "plt.tight_layout()\n",
        "plt.show()"
      ],
      "execution_count": 5,
      "outputs": [
        {
          "output_type": "stream",
          "text": [
            "/usr/local/lib/python3.6/dist-packages/seaborn/distributions.py:2557: FutureWarning: `distplot` is a deprecated function and will be removed in a future version. Please adapt your code to use either `displot` (a figure-level function with similar flexibility) or `histplot` (an axes-level function for histograms).\n",
            "  warnings.warn(msg, FutureWarning)\n",
            "/usr/local/lib/python3.6/dist-packages/seaborn/distributions.py:2557: FutureWarning: `distplot` is a deprecated function and will be removed in a future version. Please adapt your code to use either `displot` (a figure-level function with similar flexibility) or `histplot` (an axes-level function for histograms).\n",
            "  warnings.warn(msg, FutureWarning)\n"
          ],
          "name": "stderr"
        },
        {
          "output_type": "display_data",
          "data": {
            "image/png": "[encoded data removed]",
            "text/plain": [
              "<Figure size 1152x288 with 2 Axes>"
            ]
          },
          "metadata": {
            "tags": [],
            "needs_background": "light"
          }
        }
      ]
    }
  ]
}